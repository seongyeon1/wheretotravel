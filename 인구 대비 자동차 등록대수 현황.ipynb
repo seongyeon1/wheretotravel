{
 "cells": [
  {
   "cell_type": "code",
   "execution_count": 1,
   "id": "718dafe5",
   "metadata": {},
   "outputs": [],
   "source": [
    "import pandas as pd\n",
    "import matplotlib.pyplot as plt\n",
    "import warnings\n",
    "warnings.filterwarnings(\"ignore\", category=RuntimeWarning)\n",
    "\n",
    "from matplotlib import font_manager, rc\n",
    "font_path = \"C:\\Windows\\Fonts\\gulim.ttc\"\n",
    "font = font_manager.FontProperties(fname=font_path).get_name()\n",
    "rc('font', family=font)"
   ]
  },
  {
   "cell_type": "markdown",
   "id": "f8c17edc",
   "metadata": {},
   "source": [
    "## 전처리"
   ]
  },
  {
   "cell_type": "code",
   "execution_count": 2,
   "id": "2eee86e8",
   "metadata": {},
   "outputs": [],
   "source": [
    "tem = pd.read_csv('./data1/행정구역_시군구_별_인구수.csv')\n",
    "\n",
    "tem['행정구역(시군구)별'].unique()\n",
    "temp = tem.loc[2:]\n",
    "temp.index = temp['행정구역(시군구)별']\n",
    "temp = temp.drop('행정구역(시군구)별', axis=1)\n",
    "peo = temp.iloc[:,:24]\n",
    "\n",
    "tem = pd.read_csv('./data1/자동차등록대수현황_시도별.csv', encoding='cp949')\n",
    "tem.index=tem['시도(1)']\n",
    "car = tem.iloc[:,3:]\n",
    "car = car.drop('시도(1)')\n",
    "car = car.astype(int)\n",
    "car.columns = pd.to_datetime(car.columns)\n",
    "\n",
    "peo = peo.astype(int)\n",
    "car.sort_values(by='시도(1)')\n",
    "\n",
    "peo.index = ['서울', '부산', '대구', '인천', '광주', '대전', '울산',\n",
    "       '세종', '경기', '강원', '충북', '충남', '전북', '전남', '경북', '경남',\n",
    "       '제주']\n",
    "\n",
    "peo.columns = pd.to_datetime(peo.columns)"
   ]
  },
  {
   "cell_type": "markdown",
   "id": "2d61ad33",
   "metadata": {},
   "source": [
    "# 시각화"
   ]
  },
  {
   "cell_type": "markdown",
   "id": "b8c96370",
   "metadata": {},
   "source": [
    "## 인구자료"
   ]
  },
  {
   "cell_type": "code",
   "execution_count": 37,
   "id": "8f906e78",
   "metadata": {
    "collapsed": true
   },
   "outputs": [
    {
     "name": "stderr",
     "output_type": "stream",
     "text": [
      "<ipython-input-37-677c544d5bd7>:2: FutureWarning: Indexing a DataFrame with a datetimelike index using a single string to slice the rows, like `frame[string]`, is deprecated and will be removed in a future version. Use `frame.loc[string]` instead.\n",
      "  de = peo.T['2020'].mean() - peo.T['2019'].mean()\n"
     ]
    },
    {
     "data": {
      "text/plain": [
       "<AxesSubplot:>"
      ]
     },
     "execution_count": 37,
     "metadata": {},
     "output_type": "execute_result"
    },
    {
     "data": {
      "image/png": "[encoded data removed]",
      "text/plain": [
       "<Figure size 432x288 with 1 Axes>"
      ]
     },
     "metadata": {
      "needs_background": "light"
     },
     "output_type": "display_data"
    }
   ],
   "source": [
    "# 2019년 대비 2020년의 인구의 단순 증가 수치 파악\n",
    "de = peo.T['2020'].mean() - peo.T['2019'].mean()\n",
    "de.plot(kind='bar')"
   ]
  },
  {
   "cell_type": "code",
   "execution_count": 15,
   "id": "0b3ef70c",
   "metadata": {
    "collapsed": true
   },
   "outputs": [
    {
     "data": {
      "text/plain": [
       "서울    -40945.833333\n",
       "부산    -22997.916667\n",
       "대구    -21345.250000\n",
       "인천     -9151.583333\n",
       "광주     -4598.416667\n",
       "대전    -12343.250000\n",
       "울산     -9523.250000\n",
       "세종     18264.000000\n",
       "경기    176682.833333\n",
       "강원      -649.000000\n",
       "충북     -1021.500000\n",
       "충남     -4895.833333\n",
       "전북    -16850.166667\n",
       "전남    -15245.583333\n",
       "경북    -21916.666667\n",
       "경남    -17741.250000\n",
       "제주      2481.333333\n",
       "dtype: float64"
      ]
     },
     "execution_count": 15,
     "metadata": {},
     "output_type": "execute_result"
    }
   ],
   "source": [
    "de"
   ]
  },
  {
   "cell_type": "code",
   "execution_count": 38,
   "id": "3e0ae12f",
   "metadata": {
    "collapsed": true
   },
   "outputs": [
    {
     "name": "stderr",
     "output_type": "stream",
     "text": [
      "<ipython-input-38-e18bf5f3e479>:1: FutureWarning: Indexing a DataFrame with a datetimelike index using a single string to slice the rows, like `frame[string]`, is deprecated and will be removed in a future version. Use `frame.loc[string]` instead.\n",
      "  de1 = (peo.T['2020-12'].mean() - peo.T['2019-12'].mean())\n"
     ]
    },
    {
     "data": {
      "text/plain": [
       "<AxesSubplot:>"
      ]
     },
     "execution_count": 38,
     "metadata": {},
     "output_type": "execute_result"
    },
    {
     "data": {
      "image/png": "[encoded data removed]",
      "text/plain": [
       "<Figure size 432x288 with 1 Axes>"
      ]
     },
     "metadata": {
      "needs_background": "light"
     },
     "output_type": "display_data"
    }
   ],
   "source": [
    "de1 = (peo.T['2020-12'].mean() - peo.T['2019-12'].mean())\n",
    "de1.plot(kind='bar')"
   ]
  },
  {
   "cell_type": "markdown",
   "id": "3f17e1a3",
   "metadata": {},
   "source": [
    "## 결합 ( 인구 대비 자동차 수 )"
   ]
  },
  {
   "cell_type": "code",
   "execution_count": 23,
   "id": "cf362ba0",
   "metadata": {
    "collapsed": true
   },
   "outputs": [
    {
     "data": {
      "text/plain": [
       "시도(1)\n",
       "세종    8.609704\n",
       "경기    4.193416\n",
       "충북    3.911590\n",
       "강원    3.362278\n",
       "전남    3.218197\n",
       "충남    3.210033\n",
       "광주    2.875189\n",
       "인천    2.682253\n",
       "전북    2.481463\n",
       "경남    2.397484\n",
       "대구    2.366818\n",
       "경북    2.317695\n",
       "제주    2.295040\n",
       "대전    2.076134\n",
       "울산    2.010861\n",
       "부산    1.851521\n",
       "서울    1.139799\n",
       "dtype: float64"
      ]
     },
     "execution_count": 23,
     "metadata": {},
     "output_type": "execute_result"
    }
   ],
   "source": [
    "# 단순 차량 등록대수의 증가\n",
    "(car.T.pct_change(periods=12)['2020':].mean() * 100).sort_values(ascending=False)"
   ]
  },
  {
   "cell_type": "code",
   "execution_count": 110,
   "id": "dfad601f",
   "metadata": {
    "collapsed": true
   },
   "outputs": [
    {
     "data": {
      "text/plain": [
       "제주    43.459500\n",
       "세종    42.822857\n",
       "울산    42.085462\n",
       "대구    41.354918\n",
       "충북    41.009672\n",
       "경북    41.009282\n",
       "충남    40.722640\n",
       "경남    40.473401\n",
       "강원    39.135426\n",
       "전북    39.060220\n",
       "광주    38.689104\n",
       "대전    38.406101\n",
       "인천    37.891919\n",
       "전남    37.179302\n",
       "경기    36.403589\n",
       "부산    32.522039\n",
       "서울    26.705387\n",
       "Name: 2020-12-01 00:00:00, dtype: float64"
      ]
     },
     "execution_count": 110,
     "metadata": {},
     "output_type": "execute_result"
    }
   ],
   "source": [
    "# 인구 100명 중 몇 명이 자동차를 가지고 있음\n",
    "car_per_people = car/peo * 100\n",
    "car_per_people.iloc[:,-1].sort_values(ascending=False)"
   ]
  },
  {
   "cell_type": "code",
   "execution_count": 25,
   "id": "74cf24ec",
   "metadata": {
    "collapsed": true
   },
   "outputs": [
    {
     "data": {
      "text/plain": [
       "전남    4.066521\n",
       "충북    3.977979\n",
       "충남    3.448245\n",
       "전북    3.435638\n",
       "강원    3.405582\n",
       "대구    3.265889\n",
       "광주    3.200711\n",
       "경북    3.165662\n",
       "인천    3.001675\n",
       "경남    2.940372\n",
       "대전    2.932579\n",
       "세종    2.875939\n",
       "울산    2.862400\n",
       "경기    2.813784\n",
       "부산    2.539536\n",
       "제주    1.917268\n",
       "서울    1.566697\n",
       "dtype: float64"
      ]
     },
     "execution_count": 25,
     "metadata": {},
     "output_type": "execute_result"
    }
   ],
   "source": [
    "# 전년 대비 증가율의 평균\n",
    "(car_per_people.T.pct_change(periods=12)['2020':].mean() * 100).sort_values(ascending=False)"
   ]
  },
  {
   "cell_type": "code",
   "execution_count": 36,
   "id": "11b34bef",
   "metadata": {},
   "outputs": [
    {
     "name": "stderr",
     "output_type": "stream",
     "text": [
      "<ipython-input-36-08029872a374>:5: FutureWarning: Indexing a DataFrame with a datetimelike index using a single string to slice the rows, like `frame[string]`, is deprecated and will be removed in a future version. Use `frame.loc[string]` instead.\n",
      "  covid = pd.concat([cpp['2019'].mean(), cpp['2020'].mean()], axis=1)\n"
     ]
    },
    {
     "data": {
      "text/html": [
       "<div>\n",
       "<style scoped>\n",
       "    .dataframe tbody tr th:only-of-type {\n",
       "        vertical-align: middle;\n",
       "    }\n",
       "\n",
       "    .dataframe tbody tr th {\n",
       "        vertical-align: top;\n",
       "    }\n",
       "\n",
       "    .dataframe thead th {\n",
       "        text-align: right;\n",
       "    }\n",
       "</style>\n",
       "<table border=\"1\" class=\"dataframe\">\n",
       "  <thead>\n",
       "    <tr style=\"text-align: right;\">\n",
       "      <th></th>\n",
       "      <th>2019년</th>\n",
       "      <th>2020년</th>\n",
       "    </tr>\n",
       "  </thead>\n",
       "  <tbody>\n",
       "    <tr>\n",
       "      <th>강원</th>\n",
       "      <td>37.223632</td>\n",
       "      <td>38.492465</td>\n",
       "    </tr>\n",
       "    <tr>\n",
       "      <th>경기</th>\n",
       "      <td>34.811206</td>\n",
       "      <td>35.791733</td>\n",
       "    </tr>\n",
       "    <tr>\n",
       "      <th>경남</th>\n",
       "      <td>38.721384</td>\n",
       "      <td>39.860810</td>\n",
       "    </tr>\n",
       "    <tr>\n",
       "      <th>경북</th>\n",
       "      <td>39.133448</td>\n",
       "      <td>40.373208</td>\n",
       "    </tr>\n",
       "    <tr>\n",
       "      <th>광주</th>\n",
       "      <td>36.916112</td>\n",
       "      <td>38.098460</td>\n",
       "    </tr>\n",
       "    <tr>\n",
       "      <th>대구</th>\n",
       "      <td>39.221752</td>\n",
       "      <td>40.504538</td>\n",
       "    </tr>\n",
       "    <tr>\n",
       "      <th>대전</th>\n",
       "      <td>36.790653</td>\n",
       "      <td>37.870290</td>\n",
       "    </tr>\n",
       "    <tr>\n",
       "      <th>부산</th>\n",
       "      <td>31.230131</td>\n",
       "      <td>32.023847</td>\n",
       "    </tr>\n",
       "    <tr>\n",
       "      <th>서울</th>\n",
       "      <td>25.971266</td>\n",
       "      <td>26.378466</td>\n",
       "    </tr>\n",
       "    <tr>\n",
       "      <th>세종</th>\n",
       "      <td>41.041773</td>\n",
       "      <td>42.222602</td>\n",
       "    </tr>\n",
       "    <tr>\n",
       "      <th>울산</th>\n",
       "      <td>40.311259</td>\n",
       "      <td>41.465971</td>\n",
       "    </tr>\n",
       "    <tr>\n",
       "      <th>인천</th>\n",
       "      <td>36.232410</td>\n",
       "      <td>37.320726</td>\n",
       "    </tr>\n",
       "    <tr>\n",
       "      <th>전남</th>\n",
       "      <td>35.041156</td>\n",
       "      <td>36.467286</td>\n",
       "    </tr>\n",
       "    <tr>\n",
       "      <th>전북</th>\n",
       "      <td>37.150767</td>\n",
       "      <td>38.428027</td>\n",
       "    </tr>\n",
       "    <tr>\n",
       "      <th>제주</th>\n",
       "      <td>41.883285</td>\n",
       "      <td>42.685647</td>\n",
       "    </tr>\n",
       "    <tr>\n",
       "      <th>충남</th>\n",
       "      <td>38.734910</td>\n",
       "      <td>40.071503</td>\n",
       "    </tr>\n",
       "    <tr>\n",
       "      <th>충북</th>\n",
       "      <td>38.773480</td>\n",
       "      <td>40.316915</td>\n",
       "    </tr>\n",
       "  </tbody>\n",
       "</table>\n",
       "</div>"
      ],
      "text/plain": [
       "        2019년      2020년\n",
       "강원  37.223632  38.492465\n",
       "경기  34.811206  35.791733\n",
       "경남  38.721384  39.860810\n",
       "경북  39.133448  40.373208\n",
       "광주  36.916112  38.098460\n",
       "대구  39.221752  40.504538\n",
       "대전  36.790653  37.870290\n",
       "부산  31.230131  32.023847\n",
       "서울  25.971266  26.378466\n",
       "세종  41.041773  42.222602\n",
       "울산  40.311259  41.465971\n",
       "인천  36.232410  37.320726\n",
       "전남  35.041156  36.467286\n",
       "전북  37.150767  38.428027\n",
       "제주  41.883285  42.685647\n",
       "충남  38.734910  40.071503\n",
       "충북  38.773480  40.316915"
      ]
     },
     "execution_count": 36,
     "metadata": {},
     "output_type": "execute_result"
    }
   ],
   "source": [
    "car_per_people.T.index = pd.to_datetime(car_per_people.T.index)\n",
    "\n",
    "cpp = car_per_people.T\n",
    "cpp.index = pd.to_datetime(cpp.index)\n",
    "covid = pd.concat([cpp['2019'].mean(), cpp['2020'].mean()], axis=1)\n",
    "covid.columns = ['2019년','2020년']\n",
    "covid"
   ]
  },
  {
   "cell_type": "code",
   "execution_count": 31,
   "id": "cbe0ae1a",
   "metadata": {},
   "outputs": [
    {
     "data": {
      "text/plain": [
       "<AxesSubplot:>"
      ]
     },
     "execution_count": 31,
     "metadata": {},
     "output_type": "execute_result"
    },
    {
     "data": {
      "image/png": "[encoded data removed]",
      "text/plain": [
       "<Figure size 432x288 with 1 Axes>"
      ]
     },
     "metadata": {
      "needs_background": "light"
     },
     "output_type": "display_data"
    }
   ],
   "source": [
    "covid.plot(kind='bar')"
   ]
  },
  {
   "cell_type": "code",
   "execution_count": 61,
   "id": "0d3ffb11",
   "metadata": {},
   "outputs": [
    {
     "data": {
      "text/plain": [
       "강원    3.408679\n",
       "경기    2.816701\n",
       "경남    2.942625\n",
       "경북    3.168031\n",
       "광주    3.202795\n",
       "대구    3.270599\n",
       "대전    2.934544\n",
       "부산    2.541508\n",
       "서울    1.567888\n",
       "세종    2.877138\n",
       "울산    2.864490\n",
       "인천    3.003707\n",
       "전남    4.069871\n",
       "전북    3.438045\n",
       "제주    1.915707\n",
       "충남    3.450618\n",
       "충북    3.980647\n",
       "dtype: float64"
      ]
     },
     "execution_count": 61,
     "metadata": {},
     "output_type": "execute_result"
    }
   ],
   "source": [
    "# 전년대비 자동차등록대수 증가율\n",
    "((covid['2020년']-covid['2019년'])/covid['2019년']) * 100"
   ]
  },
  {
   "cell_type": "code",
   "execution_count": 121,
   "id": "86901f02",
   "metadata": {},
   "outputs": [],
   "source": [
    "CovidChangeCar = (car_per_people.T.pct_change(periods=12)['2020':].mean() * 100)"
   ]
  },
  {
   "cell_type": "code",
   "execution_count": 122,
   "id": "723cc369",
   "metadata": {},
   "outputs": [
    {
     "data": {
      "text/plain": [
       "강원    3.405582\n",
       "경기    2.813784\n",
       "경남    2.940372\n",
       "경북    3.165662\n",
       "광주    3.200711\n",
       "대구    3.265889\n",
       "대전    2.932579\n",
       "부산    2.539536\n",
       "서울    1.566697\n",
       "세종    2.875939\n",
       "울산    2.862400\n",
       "인천    3.001675\n",
       "전남    4.066521\n",
       "전북    3.435638\n",
       "제주    1.917268\n",
       "충남    3.448245\n",
       "충북    3.977979\n",
       "dtype: float64"
      ]
     },
     "execution_count": 122,
     "metadata": {},
     "output_type": "execute_result"
    }
   ],
   "source": [
    "CovidChangeCar "
   ]
  },
  {
   "cell_type": "markdown",
   "id": "6a74f966",
   "metadata": {},
   "source": [
    "# 대중교통 이용인원 데이터"
   ]
  },
  {
   "cell_type": "code",
   "execution_count": 137,
   "id": "0dcb6d58",
   "metadata": {},
   "outputs": [],
   "source": [
    "t = pd.read_csv('./data1/한국교통안전공단_대중교통 이용인원 현황.csv', encoding='cp949')\n",
    "t.set_index(['구분1'], drop=True, inplace=True)"
   ]
  },
  {
   "cell_type": "code",
   "execution_count": 156,
   "id": "18f5c0ab",
   "metadata": {},
   "outputs": [],
   "source": [
    "Transport = (t.iloc[:,0]*5 + t.iloc[:,1]+t.iloc[:,2]) /7"
   ]
  },
  {
   "cell_type": "code",
   "execution_count": 157,
   "id": "4ea7e68e",
   "metadata": {},
   "outputs": [],
   "source": [
    "TransUser = Transport / peo.T.loc['2019'].mean() * 100"
   ]
  },
  {
   "cell_type": "code",
   "execution_count": 159,
   "id": "c9378d8e",
   "metadata": {},
   "outputs": [
    {
     "data": {
      "text/html": [
       "<div>\n",
       "<style scoped>\n",
       "    .dataframe tbody tr th:only-of-type {\n",
       "        vertical-align: middle;\n",
       "    }\n",
       "\n",
       "    .dataframe tbody tr th {\n",
       "        vertical-align: top;\n",
       "    }\n",
       "\n",
       "    .dataframe thead th {\n",
       "        text-align: right;\n",
       "    }\n",
       "</style>\n",
       "<table border=\"1\" class=\"dataframe\">\n",
       "  <thead>\n",
       "    <tr style=\"text-align: right;\">\n",
       "      <th></th>\n",
       "      <th>대중교통</th>\n",
       "    </tr>\n",
       "    <tr>\n",
       "      <th>구분1</th>\n",
       "      <th></th>\n",
       "    </tr>\n",
       "  </thead>\n",
       "  <tbody>\n",
       "    <tr>\n",
       "      <th>서울</th>\n",
       "      <td>41.276087</td>\n",
       "    </tr>\n",
       "    <tr>\n",
       "      <th>부산</th>\n",
       "      <td>27.690449</td>\n",
       "    </tr>\n",
       "    <tr>\n",
       "      <th>대구</th>\n",
       "      <td>18.482222</td>\n",
       "    </tr>\n",
       "    <tr>\n",
       "      <th>인천</th>\n",
       "      <td>25.346985</td>\n",
       "    </tr>\n",
       "    <tr>\n",
       "      <th>광주</th>\n",
       "      <td>13.373001</td>\n",
       "    </tr>\n",
       "    <tr>\n",
       "      <th>대전</th>\n",
       "      <td>15.901543</td>\n",
       "    </tr>\n",
       "    <tr>\n",
       "      <th>울산</th>\n",
       "      <td>10.995708</td>\n",
       "    </tr>\n",
       "    <tr>\n",
       "      <th>세종</th>\n",
       "      <td>6.402461</td>\n",
       "    </tr>\n",
       "    <tr>\n",
       "      <th>경기</th>\n",
       "      <td>21.653449</td>\n",
       "    </tr>\n",
       "    <tr>\n",
       "      <th>강원</th>\n",
       "      <td>5.917339</td>\n",
       "    </tr>\n",
       "    <tr>\n",
       "      <th>충북</th>\n",
       "      <td>6.038148</td>\n",
       "    </tr>\n",
       "    <tr>\n",
       "      <th>충남</th>\n",
       "      <td>5.599310</td>\n",
       "    </tr>\n",
       "    <tr>\n",
       "      <th>전북</th>\n",
       "      <td>5.550652</td>\n",
       "    </tr>\n",
       "    <tr>\n",
       "      <th>전남</th>\n",
       "      <td>5.649613</td>\n",
       "    </tr>\n",
       "    <tr>\n",
       "      <th>경북</th>\n",
       "      <td>5.702033</td>\n",
       "    </tr>\n",
       "    <tr>\n",
       "      <th>경남</th>\n",
       "      <td>9.174343</td>\n",
       "    </tr>\n",
       "    <tr>\n",
       "      <th>제주</th>\n",
       "      <td>10.820987</td>\n",
       "    </tr>\n",
       "  </tbody>\n",
       "</table>\n",
       "</div>"
      ],
      "text/plain": [
       "          대중교통\n",
       "구분1           \n",
       "서울   41.276087\n",
       "부산   27.690449\n",
       "대구   18.482222\n",
       "인천   25.346985\n",
       "광주   13.373001\n",
       "대전   15.901543\n",
       "울산   10.995708\n",
       "세종    6.402461\n",
       "경기   21.653449\n",
       "강원    5.917339\n",
       "충북    6.038148\n",
       "충남    5.599310\n",
       "전북    5.550652\n",
       "전남    5.649613\n",
       "경북    5.702033\n",
       "경남    9.174343\n",
       "제주   10.820987"
      ]
     },
     "execution_count": 159,
     "metadata": {},
     "output_type": "execute_result"
    }
   ],
   "source": [
    "Transuser = pd.DataFrame(TransUser, columns=['대중교통'])\n",
    "Transuser"
   ]
  },
  {
   "cell_type": "code",
   "execution_count": 160,
   "id": "8d7479a7",
   "metadata": {
    "collapsed": true
   },
   "outputs": [
    {
     "data": {
      "text/plain": [
       "<AxesSubplot:xlabel='구분1'>"
      ]
     },
     "execution_count": 160,
     "metadata": {},
     "output_type": "execute_result"
    },
    {
     "data": {
      "image/png": "[encoded data removed]",
      "text/plain": [
       "<Figure size 1440x720 with 1 Axes>"
      ]
     },
     "metadata": {
      "needs_background": "light"
     },
     "output_type": "display_data"
    }
   ],
   "source": [
    "# TransportUser = t.copy()\n",
    "# for c in TransportUser.columns.tolist():\n",
    "#     TransportUser[c] = t[c]/ peo.T.loc['2019'].mean() * 100\n",
    "\n",
    "# import matplotlib.pyplot as plt\n",
    "# plt.rcParams[\"figure.figsize\"] = (20,10)\n",
    "\n",
    "# TransportUser.plot(kind='bar')"
   ]
  },
  {
   "cell_type": "code",
   "execution_count": 129,
   "id": "6f15c2ac",
   "metadata": {},
   "outputs": [
    {
     "data": {
      "text/plain": [
       "강원    3.405582\n",
       "경기    2.813784\n",
       "경남    2.940372\n",
       "경북    3.165662\n",
       "광주    3.200711\n",
       "대구    3.265889\n",
       "대전    2.932579\n",
       "부산    2.539536\n",
       "서울    1.566697\n",
       "세종    2.875939\n",
       "울산    2.862400\n",
       "인천    3.001675\n",
       "전남    4.066521\n",
       "전북    3.435638\n",
       "제주    1.917268\n",
       "충남    3.448245\n",
       "충북    3.977979\n",
       "dtype: float64"
      ]
     },
     "execution_count": 129,
     "metadata": {},
     "output_type": "execute_result"
    }
   ],
   "source": [
    "CovidChangeCar"
   ]
  },
  {
   "cell_type": "code",
   "execution_count": 131,
   "id": "498dedb6",
   "metadata": {},
   "outputs": [],
   "source": [
    "CovidChangeCar = pd.DataFrame(CovidChangeCar, columns=['자동차증가'])"
   ]
  },
  {
   "cell_type": "code",
   "execution_count": 132,
   "id": "c85e0af3",
   "metadata": {},
   "outputs": [
    {
     "data": {
      "text/plain": [
       "Index(['강원', '경기', '경남', '경북', '광주', '대구', '대전', '부산', '서울', '세종', '울산', '인천',\n",
       "       '전남', '전북', '제주', '충남', '충북'],\n",
       "      dtype='object')"
      ]
     },
     "execution_count": 132,
     "metadata": {},
     "output_type": "execute_result"
    }
   ],
   "source": [
    "CovidChangeCar.index"
   ]
  },
  {
   "cell_type": "code",
   "execution_count": 161,
   "id": "56b82b31",
   "metadata": {},
   "outputs": [],
   "source": [
    "CovidTransportChange = pd.merge(CovidChangeCar, Transuser, right_index=True, left_index=True)"
   ]
  },
  {
   "cell_type": "code",
   "execution_count": 164,
   "id": "9a08c7ac",
   "metadata": {},
   "outputs": [],
   "source": [
    "CovidTransport = covid.merge(CovidTransportChange, right_index=True, left_index=True)"
   ]
  },
  {
   "cell_type": "code",
   "execution_count": 165,
   "id": "2ac4cd0e",
   "metadata": {},
   "outputs": [
    {
     "data": {
      "text/html": [
       "<div>\n",
       "<style scoped>\n",
       "    .dataframe tbody tr th:only-of-type {\n",
       "        vertical-align: middle;\n",
       "    }\n",
       "\n",
       "    .dataframe tbody tr th {\n",
       "        vertical-align: top;\n",
       "    }\n",
       "\n",
       "    .dataframe thead th {\n",
       "        text-align: right;\n",
       "    }\n",
       "</style>\n",
       "<table border=\"1\" class=\"dataframe\">\n",
       "  <thead>\n",
       "    <tr style=\"text-align: right;\">\n",
       "      <th></th>\n",
       "      <th>2019년</th>\n",
       "      <th>2020년</th>\n",
       "      <th>자동차증가</th>\n",
       "      <th>대중교통</th>\n",
       "    </tr>\n",
       "  </thead>\n",
       "  <tbody>\n",
       "    <tr>\n",
       "      <th>강원</th>\n",
       "      <td>37.223632</td>\n",
       "      <td>38.492465</td>\n",
       "      <td>3.405582</td>\n",
       "      <td>5.917339</td>\n",
       "    </tr>\n",
       "    <tr>\n",
       "      <th>경기</th>\n",
       "      <td>34.811206</td>\n",
       "      <td>35.791733</td>\n",
       "      <td>2.813784</td>\n",
       "      <td>21.653449</td>\n",
       "    </tr>\n",
       "    <tr>\n",
       "      <th>경남</th>\n",
       "      <td>38.721384</td>\n",
       "      <td>39.860810</td>\n",
       "      <td>2.940372</td>\n",
       "      <td>9.174343</td>\n",
       "    </tr>\n",
       "    <tr>\n",
       "      <th>경북</th>\n",
       "      <td>39.133448</td>\n",
       "      <td>40.373208</td>\n",
       "      <td>3.165662</td>\n",
       "      <td>5.702033</td>\n",
       "    </tr>\n",
       "    <tr>\n",
       "      <th>광주</th>\n",
       "      <td>36.916112</td>\n",
       "      <td>38.098460</td>\n",
       "      <td>3.200711</td>\n",
       "      <td>13.373001</td>\n",
       "    </tr>\n",
       "    <tr>\n",
       "      <th>대구</th>\n",
       "      <td>39.221752</td>\n",
       "      <td>40.504538</td>\n",
       "      <td>3.265889</td>\n",
       "      <td>18.482222</td>\n",
       "    </tr>\n",
       "    <tr>\n",
       "      <th>대전</th>\n",
       "      <td>36.790653</td>\n",
       "      <td>37.870290</td>\n",
       "      <td>2.932579</td>\n",
       "      <td>15.901543</td>\n",
       "    </tr>\n",
       "    <tr>\n",
       "      <th>부산</th>\n",
       "      <td>31.230131</td>\n",
       "      <td>32.023847</td>\n",
       "      <td>2.539536</td>\n",
       "      <td>27.690449</td>\n",
       "    </tr>\n",
       "    <tr>\n",
       "      <th>서울</th>\n",
       "      <td>25.971266</td>\n",
       "      <td>26.378466</td>\n",
       "      <td>1.566697</td>\n",
       "      <td>41.276087</td>\n",
       "    </tr>\n",
       "    <tr>\n",
       "      <th>세종</th>\n",
       "      <td>41.041773</td>\n",
       "      <td>42.222602</td>\n",
       "      <td>2.875939</td>\n",
       "      <td>6.402461</td>\n",
       "    </tr>\n",
       "    <tr>\n",
       "      <th>울산</th>\n",
       "      <td>40.311259</td>\n",
       "      <td>41.465971</td>\n",
       "      <td>2.862400</td>\n",
       "      <td>10.995708</td>\n",
       "    </tr>\n",
       "    <tr>\n",
       "      <th>인천</th>\n",
       "      <td>36.232410</td>\n",
       "      <td>37.320726</td>\n",
       "      <td>3.001675</td>\n",
       "      <td>25.346985</td>\n",
       "    </tr>\n",
       "    <tr>\n",
       "      <th>전남</th>\n",
       "      <td>35.041156</td>\n",
       "      <td>36.467286</td>\n",
       "      <td>4.066521</td>\n",
       "      <td>5.649613</td>\n",
       "    </tr>\n",
       "    <tr>\n",
       "      <th>전북</th>\n",
       "      <td>37.150767</td>\n",
       "      <td>38.428027</td>\n",
       "      <td>3.435638</td>\n",
       "      <td>5.550652</td>\n",
       "    </tr>\n",
       "    <tr>\n",
       "      <th>제주</th>\n",
       "      <td>41.883285</td>\n",
       "      <td>42.685647</td>\n",
       "      <td>1.917268</td>\n",
       "      <td>10.820987</td>\n",
       "    </tr>\n",
       "    <tr>\n",
       "      <th>충남</th>\n",
       "      <td>38.734910</td>\n",
       "      <td>40.071503</td>\n",
       "      <td>3.448245</td>\n",
       "      <td>5.599310</td>\n",
       "    </tr>\n",
       "    <tr>\n",
       "      <th>충북</th>\n",
       "      <td>38.773480</td>\n",
       "      <td>40.316915</td>\n",
       "      <td>3.977979</td>\n",
       "      <td>6.038148</td>\n",
       "    </tr>\n",
       "  </tbody>\n",
       "</table>\n",
       "</div>"
      ],
      "text/plain": [
       "        2019년      2020년     자동차증가       대중교통\n",
       "강원  37.223632  38.492465  3.405582   5.917339\n",
       "경기  34.811206  35.791733  2.813784  21.653449\n",
       "경남  38.721384  39.860810  2.940372   9.174343\n",
       "경북  39.133448  40.373208  3.165662   5.702033\n",
       "광주  36.916112  38.098460  3.200711  13.373001\n",
       "대구  39.221752  40.504538  3.265889  18.482222\n",
       "대전  36.790653  37.870290  2.932579  15.901543\n",
       "부산  31.230131  32.023847  2.539536  27.690449\n",
       "서울  25.971266  26.378466  1.566697  41.276087\n",
       "세종  41.041773  42.222602  2.875939   6.402461\n",
       "울산  40.311259  41.465971  2.862400  10.995708\n",
       "인천  36.232410  37.320726  3.001675  25.346985\n",
       "전남  35.041156  36.467286  4.066521   5.649613\n",
       "전북  37.150767  38.428027  3.435638   5.550652\n",
       "제주  41.883285  42.685647  1.917268  10.820987\n",
       "충남  38.734910  40.071503  3.448245   5.599310\n",
       "충북  38.773480  40.316915  3.977979   6.038148"
      ]
     },
     "execution_count": 165,
     "metadata": {},
     "output_type": "execute_result"
    }
   ],
   "source": [
    "CovidTransport"
   ]
  },
  {
   "cell_type": "code",
   "execution_count": 92,
   "id": "861ee95b",
   "metadata": {
    "scrolled": true
   },
   "outputs": [
    {
     "data": {
      "text/plain": [
       "<AxesSubplot:>"
      ]
     },
     "execution_count": 92,
     "metadata": {},
     "output_type": "execute_result"
    },
    {
     "data": {
      "image/png": "[encoded data removed]",
      "text/plain": [
       "<Figure size 1440x1080 with 2 Axes>"
      ]
     },
     "metadata": {
      "needs_background": "light"
     },
     "output_type": "display_data"
    }
   ],
   "source": [
    "plt.rcParams[\"figure.figsize\"] = (20,15)\n",
    "\n",
    "plt.subplot(1, 2, 1)               \n",
    "CovidTransportChange.iloc[:,0].plot(kind='barh')\n",
    "\n",
    "plt.subplot(1, 2, 2)             \n",
    "CovidTransportChange.iloc[:,1].plot(kind='barh')"
   ]
  },
  {
   "cell_type": "code",
   "execution_count": 169,
   "id": "acf6b898",
   "metadata": {},
   "outputs": [],
   "source": [
    "Covid_cor = CovidTransport.corr()"
   ]
  },
  {
   "cell_type": "code",
   "execution_count": 171,
   "id": "d5c925ad",
   "metadata": {},
   "outputs": [
    {
     "data": {
      "text/plain": [
       "<AxesSubplot:>"
      ]
     },
     "execution_count": 171,
     "metadata": {},
     "output_type": "execute_result"
    },
    {
     "data": {
      "image/png": "[encoded data removed]",
      "text/plain": [
       "<Figure size 1440x720 with 2 Axes>"
      ]
     },
     "metadata": {
      "needs_background": "light"
     },
     "output_type": "display_data"
    }
   ],
   "source": [
    "import seaborn as sns\n",
    "sns.heatmap(Covid_cor)"
   ]
  },
  {
   "cell_type": "code",
   "execution_count": 172,
   "id": "a1eb1df9",
   "metadata": {},
   "outputs": [
    {
     "data": {
      "text/html": [
       "<div>\n",
       "<style scoped>\n",
       "    .dataframe tbody tr th:only-of-type {\n",
       "        vertical-align: middle;\n",
       "    }\n",
       "\n",
       "    .dataframe tbody tr th {\n",
       "        vertical-align: top;\n",
       "    }\n",
       "\n",
       "    .dataframe thead th {\n",
       "        text-align: right;\n",
       "    }\n",
       "</style>\n",
       "<table border=\"1\" class=\"dataframe\">\n",
       "  <thead>\n",
       "    <tr style=\"text-align: right;\">\n",
       "      <th></th>\n",
       "      <th>2019년</th>\n",
       "      <th>2020년</th>\n",
       "      <th>자동차증가</th>\n",
       "      <th>대중교통</th>\n",
       "    </tr>\n",
       "  </thead>\n",
       "  <tbody>\n",
       "    <tr>\n",
       "      <th>2019년</th>\n",
       "      <td>1.000000</td>\n",
       "      <td>0.998598</td>\n",
       "      <td>0.365852</td>\n",
       "      <td>-0.793315</td>\n",
       "    </tr>\n",
       "    <tr>\n",
       "      <th>2020년</th>\n",
       "      <td>0.998598</td>\n",
       "      <td>1.000000</td>\n",
       "      <td>0.414290</td>\n",
       "      <td>-0.814212</td>\n",
       "    </tr>\n",
       "    <tr>\n",
       "      <th>자동차증가</th>\n",
       "      <td>0.365852</td>\n",
       "      <td>0.414290</td>\n",
       "      <td>1.000000</td>\n",
       "      <td>-0.681782</td>\n",
       "    </tr>\n",
       "    <tr>\n",
       "      <th>대중교통</th>\n",
       "      <td>-0.793315</td>\n",
       "      <td>-0.814212</td>\n",
       "      <td>-0.681782</td>\n",
       "      <td>1.000000</td>\n",
       "    </tr>\n",
       "  </tbody>\n",
       "</table>\n",
       "</div>"
      ],
      "text/plain": [
       "          2019년     2020년     자동차증가      대중교통\n",
       "2019년  1.000000  0.998598  0.365852 -0.793315\n",
       "2020년  0.998598  1.000000  0.414290 -0.814212\n",
       "자동차증가  0.365852  0.414290  1.000000 -0.681782\n",
       "대중교통  -0.793315 -0.814212 -0.681782  1.000000"
      ]
     },
     "execution_count": 172,
     "metadata": {},
     "output_type": "execute_result"
    }
   ],
   "source": [
    "Covid_cor"
   ]
  },
  {
   "cell_type": "markdown",
   "id": "bdc73411",
   "metadata": {},
   "source": [
    "* 대중교통의 이용자 수와 자동차 등록대수의 증가는 꽤 큰 상관관계가 있음"
   ]
  },
  {
   "cell_type": "code",
   "execution_count": 173,
   "id": "465469fb",
   "metadata": {},
   "outputs": [],
   "source": [
    "from IPython.display import display_html\n",
    "def display_side_by_side(*args):\n",
    "    \"\"\"여러 데이터프레임 비교가 쉽게 옆쪽으로 표시한다\"\"\"\n",
    "    html_str=''\n",
    "    for df in args:\n",
    "        html_str += df.to_html()\n",
    "    display_html(html_str.replace('table','table style=\"display:inline\"'), raw=True)"
   ]
  },
  {
   "cell_type": "code",
   "execution_count": 113,
   "id": "0fb966a1",
   "metadata": {},
   "outputs": [],
   "source": [
    "CovidTransportChange['자동차등록대수'] = car_per_people.iloc[:,-1].sort_values(ascending=False)"
   ]
  },
  {
   "cell_type": "code",
   "execution_count": 114,
   "id": "ccfaebd0",
   "metadata": {
    "scrolled": true
   },
   "outputs": [
    {
     "data": {
      "text/html": [
       "<table style=\"display:inline\" border=\"1\" class=\"dataframe\">\n",
       "  <thead>\n",
       "    <tr style=\"text-align: right;\">\n",
       "      <th></th>\n",
       "      <th>자동차등록대수</th>\n",
       "    </tr>\n",
       "  </thead>\n",
       "  <tbody>\n",
       "    <tr>\n",
       "      <th>제주</th>\n",
       "      <td>43.459500</td>\n",
       "    </tr>\n",
       "    <tr>\n",
       "      <th>세종</th>\n",
       "      <td>42.822857</td>\n",
       "    </tr>\n",
       "    <tr>\n",
       "      <th>울산</th>\n",
       "      <td>42.085462</td>\n",
       "    </tr>\n",
       "    <tr>\n",
       "      <th>대구</th>\n",
       "      <td>41.354918</td>\n",
       "    </tr>\n",
       "    <tr>\n",
       "      <th>충북</th>\n",
       "      <td>41.009672</td>\n",
       "    </tr>\n",
       "    <tr>\n",
       "      <th>경북</th>\n",
       "      <td>41.009282</td>\n",
       "    </tr>\n",
       "    <tr>\n",
       "      <th>충남</th>\n",
       "      <td>40.722640</td>\n",
       "    </tr>\n",
       "    <tr>\n",
       "      <th>경남</th>\n",
       "      <td>40.473401</td>\n",
       "    </tr>\n",
       "    <tr>\n",
       "      <th>강원</th>\n",
       "      <td>39.135426</td>\n",
       "    </tr>\n",
       "    <tr>\n",
       "      <th>전북</th>\n",
       "      <td>39.060220</td>\n",
       "    </tr>\n",
       "    <tr>\n",
       "      <th>광주</th>\n",
       "      <td>38.689104</td>\n",
       "    </tr>\n",
       "    <tr>\n",
       "      <th>대전</th>\n",
       "      <td>38.406101</td>\n",
       "    </tr>\n",
       "    <tr>\n",
       "      <th>인천</th>\n",
       "      <td>37.891919</td>\n",
       "    </tr>\n",
       "    <tr>\n",
       "      <th>전남</th>\n",
       "      <td>37.179302</td>\n",
       "    </tr>\n",
       "    <tr>\n",
       "      <th>경기</th>\n",
       "      <td>36.403589</td>\n",
       "    </tr>\n",
       "    <tr>\n",
       "      <th>부산</th>\n",
       "      <td>32.522039</td>\n",
       "    </tr>\n",
       "    <tr>\n",
       "      <th>서울</th>\n",
       "      <td>26.705387</td>\n",
       "    </tr>\n",
       "  </tbody>\n",
       "</table style=\"display:inline\"><table style=\"display:inline\" border=\"1\" class=\"dataframe\">\n",
       "  <thead>\n",
       "    <tr style=\"text-align: right;\">\n",
       "      <th></th>\n",
       "      <th>이용인원</th>\n",
       "    </tr>\n",
       "  </thead>\n",
       "  <tbody>\n",
       "    <tr>\n",
       "      <th>전남</th>\n",
       "      <td>4.066521</td>\n",
       "    </tr>\n",
       "    <tr>\n",
       "      <th>충북</th>\n",
       "      <td>3.977979</td>\n",
       "    </tr>\n",
       "    <tr>\n",
       "      <th>충남</th>\n",
       "      <td>3.448245</td>\n",
       "    </tr>\n",
       "    <tr>\n",
       "      <th>전북</th>\n",
       "      <td>3.435638</td>\n",
       "    </tr>\n",
       "    <tr>\n",
       "      <th>강원</th>\n",
       "      <td>3.405582</td>\n",
       "    </tr>\n",
       "    <tr>\n",
       "      <th>대구</th>\n",
       "      <td>3.265889</td>\n",
       "    </tr>\n",
       "    <tr>\n",
       "      <th>광주</th>\n",
       "      <td>3.200711</td>\n",
       "    </tr>\n",
       "    <tr>\n",
       "      <th>경북</th>\n",
       "      <td>3.165662</td>\n",
       "    </tr>\n",
       "    <tr>\n",
       "      <th>인천</th>\n",
       "      <td>3.001675</td>\n",
       "    </tr>\n",
       "    <tr>\n",
       "      <th>경남</th>\n",
       "      <td>2.940372</td>\n",
       "    </tr>\n",
       "    <tr>\n",
       "      <th>대전</th>\n",
       "      <td>2.932579</td>\n",
       "    </tr>\n",
       "    <tr>\n",
       "      <th>세종</th>\n",
       "      <td>2.875939</td>\n",
       "    </tr>\n",
       "    <tr>\n",
       "      <th>울산</th>\n",
       "      <td>2.862400</td>\n",
       "    </tr>\n",
       "    <tr>\n",
       "      <th>경기</th>\n",
       "      <td>2.813784</td>\n",
       "    </tr>\n",
       "    <tr>\n",
       "      <th>부산</th>\n",
       "      <td>2.539536</td>\n",
       "    </tr>\n",
       "    <tr>\n",
       "      <th>제주</th>\n",
       "      <td>1.917268</td>\n",
       "    </tr>\n",
       "    <tr>\n",
       "      <th>서울</th>\n",
       "      <td>1.566697</td>\n",
       "    </tr>\n",
       "  </tbody>\n",
       "</table style=\"display:inline\"><table style=\"display:inline\" border=\"1\" class=\"dataframe\">\n",
       "  <thead>\n",
       "    <tr style=\"text-align: right;\">\n",
       "      <th></th>\n",
       "      <th>평일</th>\n",
       "    </tr>\n",
       "  </thead>\n",
       "  <tbody>\n",
       "    <tr>\n",
       "      <th>충남</th>\n",
       "      <td>5.940796</td>\n",
       "    </tr>\n",
       "    <tr>\n",
       "      <th>전북</th>\n",
       "      <td>6.172295</td>\n",
       "    </tr>\n",
       "    <tr>\n",
       "      <th>경북</th>\n",
       "      <td>6.178505</td>\n",
       "    </tr>\n",
       "    <tr>\n",
       "      <th>전남</th>\n",
       "      <td>6.217773</td>\n",
       "    </tr>\n",
       "    <tr>\n",
       "      <th>강원</th>\n",
       "      <td>6.477096</td>\n",
       "    </tr>\n",
       "    <tr>\n",
       "      <th>충북</th>\n",
       "      <td>6.590634</td>\n",
       "    </tr>\n",
       "    <tr>\n",
       "      <th>세종</th>\n",
       "      <td>7.123004</td>\n",
       "    </tr>\n",
       "    <tr>\n",
       "      <th>경남</th>\n",
       "      <td>9.993556</td>\n",
       "    </tr>\n",
       "    <tr>\n",
       "      <th>제주</th>\n",
       "      <td>11.816016</td>\n",
       "    </tr>\n",
       "    <tr>\n",
       "      <th>울산</th>\n",
       "      <td>11.960555</td>\n",
       "    </tr>\n",
       "    <tr>\n",
       "      <th>광주</th>\n",
       "      <td>14.751823</td>\n",
       "    </tr>\n",
       "    <tr>\n",
       "      <th>대전</th>\n",
       "      <td>17.182626</td>\n",
       "    </tr>\n",
       "    <tr>\n",
       "      <th>대구</th>\n",
       "      <td>19.774852</td>\n",
       "    </tr>\n",
       "    <tr>\n",
       "      <th>경기</th>\n",
       "      <td>23.488237</td>\n",
       "    </tr>\n",
       "    <tr>\n",
       "      <th>인천</th>\n",
       "      <td>27.426104</td>\n",
       "    </tr>\n",
       "    <tr>\n",
       "      <th>부산</th>\n",
       "      <td>29.492781</td>\n",
       "    </tr>\n",
       "    <tr>\n",
       "      <th>서울</th>\n",
       "      <td>44.537469</td>\n",
       "    </tr>\n",
       "  </tbody>\n",
       "</table style=\"display:inline\"><table style=\"display:inline\" border=\"1\" class=\"dataframe\">\n",
       "  <thead>\n",
       "    <tr style=\"text-align: right;\">\n",
       "      <th></th>\n",
       "      <th>토요일</th>\n",
       "    </tr>\n",
       "  </thead>\n",
       "  <tbody>\n",
       "    <tr>\n",
       "      <th>전북</th>\n",
       "      <td>4.527277</td>\n",
       "    </tr>\n",
       "    <tr>\n",
       "      <th>전남</th>\n",
       "      <td>4.829143</td>\n",
       "    </tr>\n",
       "    <tr>\n",
       "      <th>경북</th>\n",
       "      <td>5.017230</td>\n",
       "    </tr>\n",
       "    <tr>\n",
       "      <th>강원</th>\n",
       "      <td>5.021279</td>\n",
       "    </tr>\n",
       "    <tr>\n",
       "      <th>충남</th>\n",
       "      <td>5.069397</td>\n",
       "    </tr>\n",
       "    <tr>\n",
       "      <th>충북</th>\n",
       "      <td>5.069458</td>\n",
       "    </tr>\n",
       "    <tr>\n",
       "      <th>세종</th>\n",
       "      <td>5.090595</td>\n",
       "    </tr>\n",
       "    <tr>\n",
       "      <th>경남</th>\n",
       "      <td>8.084939</td>\n",
       "    </tr>\n",
       "    <tr>\n",
       "      <th>제주</th>\n",
       "      <td>9.148880</td>\n",
       "    </tr>\n",
       "    <tr>\n",
       "      <th>울산</th>\n",
       "      <td>9.499227</td>\n",
       "    </tr>\n",
       "    <tr>\n",
       "      <th>광주</th>\n",
       "      <td>11.139672</td>\n",
       "    </tr>\n",
       "    <tr>\n",
       "      <th>대전</th>\n",
       "      <td>13.956621</td>\n",
       "    </tr>\n",
       "    <tr>\n",
       "      <th>대구</th>\n",
       "      <td>17.301418</td>\n",
       "    </tr>\n",
       "    <tr>\n",
       "      <th>경기</th>\n",
       "      <td>19.034765</td>\n",
       "    </tr>\n",
       "    <tr>\n",
       "      <th>인천</th>\n",
       "      <td>22.446691</td>\n",
       "    </tr>\n",
       "    <tr>\n",
       "      <th>부산</th>\n",
       "      <td>25.806249</td>\n",
       "    </tr>\n",
       "    <tr>\n",
       "      <th>서울</th>\n",
       "      <td>36.685188</td>\n",
       "    </tr>\n",
       "  </tbody>\n",
       "</table style=\"display:inline\"><table style=\"display:inline\" border=\"1\" class=\"dataframe\">\n",
       "  <thead>\n",
       "    <tr style=\"text-align: right;\">\n",
       "      <th></th>\n",
       "      <th>일요일</th>\n",
       "    </tr>\n",
       "  </thead>\n",
       "  <tbody>\n",
       "    <tr>\n",
       "      <th>전북</th>\n",
       "      <td>3.465807</td>\n",
       "    </tr>\n",
       "    <tr>\n",
       "      <th>전남</th>\n",
       "      <td>3.629288</td>\n",
       "    </tr>\n",
       "    <tr>\n",
       "      <th>경북</th>\n",
       "      <td>4.004477</td>\n",
       "    </tr>\n",
       "    <tr>\n",
       "      <th>강원</th>\n",
       "      <td>4.014609</td>\n",
       "    </tr>\n",
       "    <tr>\n",
       "      <th>세종</th>\n",
       "      <td>4.111611</td>\n",
       "    </tr>\n",
       "    <tr>\n",
       "      <th>충북</th>\n",
       "      <td>4.244410</td>\n",
       "    </tr>\n",
       "    <tr>\n",
       "      <th>충남</th>\n",
       "      <td>4.421789</td>\n",
       "    </tr>\n",
       "    <tr>\n",
       "      <th>경남</th>\n",
       "      <td>6.167678</td>\n",
       "    </tr>\n",
       "    <tr>\n",
       "      <th>제주</th>\n",
       "      <td>7.517952</td>\n",
       "    </tr>\n",
       "    <tr>\n",
       "      <th>울산</th>\n",
       "      <td>7.667956</td>\n",
       "    </tr>\n",
       "    <tr>\n",
       "      <th>광주</th>\n",
       "      <td>8.712220</td>\n",
       "    </tr>\n",
       "    <tr>\n",
       "      <th>대전</th>\n",
       "      <td>11.441052</td>\n",
       "    </tr>\n",
       "    <tr>\n",
       "      <th>대구</th>\n",
       "      <td>13.199877</td>\n",
       "    </tr>\n",
       "    <tr>\n",
       "      <th>경기</th>\n",
       "      <td>15.098195</td>\n",
       "    </tr>\n",
       "    <tr>\n",
       "      <th>인천</th>\n",
       "      <td>17.851689</td>\n",
       "    </tr>\n",
       "    <tr>\n",
       "      <th>부산</th>\n",
       "      <td>20.562989</td>\n",
       "    </tr>\n",
       "    <tr>\n",
       "      <th>서울</th>\n",
       "      <td>29.560077</td>\n",
       "    </tr>\n",
       "  </tbody>\n",
       "</table style=\"display:inline\">"
      ]
     },
     "metadata": {},
     "output_type": "display_data"
    }
   ],
   "source": [
    "display_side_by_side(CovidTransportChange[['자동차등록대수']].sort_values(by='자동차등록대수', ascending=False), CovidTransportChange[['이용인원']].sort_values(by='이용인원', ascending=False), CovidTransportChange[['평일']].sort_values(by='평일', ascending=True), CovidTransportChange[['토요일']].sort_values(by='토요일', ascending=True), CovidTransportChange[['일요일']].sort_values(by='일요일', ascending=True))"
   ]
  },
  {
   "cell_type": "markdown",
   "id": "86221611",
   "metadata": {},
   "source": [
    "## 교통이 불편한 곳\n",
    "1. 인구대비 자동차 등록대수가 많은 곳 \n",
    "2. 인구대비 대중교통 이용자가 적은 곳"
   ]
  },
  {
   "cell_type": "markdown",
   "id": "3f8efb33",
   "metadata": {},
   "source": [
    "# 코로나 이후의 변화를 기준으로 문화 관광 사업 대책 마련의 시급한 지역을 선정하였다."
   ]
  },
  {
   "cell_type": "markdown",
   "id": "e17a562d",
   "metadata": {},
   "source": [
    "<img src = 'RENTCAR.jfif'>"
   ]
  },
  {
   "cell_type": "markdown",
   "id": "5c6e2326",
   "metadata": {},
   "source": [
    "# 배경\n",
    "* 최근 여행 트렌드 키워드 : 근거리, 언택트, 안전 여행\n",
    "* 분석 목적: 키워드에 적합한 여행지를 선정해보자\n",
    "* 뉴노멀 시대 적합한 여행지 선정 ( 디테일 하게 )\n",
    "\n",
    "1) 언택트\n",
    "데이터: (교통이 불편한 곳 + 매출이 적은 곳 + 문화시설 수가 많은 곳) \n",
    "코로나 이후 트렌드에 적합한 여행 추천 => 온라인 컨텐츠 지역, 교통인프라 구축\n",
    "(교통이 불편하고 문화시설이 많은 곳 => 비대면 여행지로 선정)\n",
    "\n",
    "2) 근거리, 생활관광\n",
    "데이터: (취급액 증가율이 높은 곳들(코로나 안전지역) + '자연' 문화시설이 많은 곳 20개를 지역)\n",
    "생활관광지역으로 선정. "
   ]
  },
  {
   "cell_type": "markdown",
   "id": "312cef30",
   "metadata": {},
   "source": [
    "0. 문화 관광 사업 대책 마련이 시급한 곳 정의\n",
    "\n",
    "  * 매출 관련\n",
    "    - 코로나 이후의 매출 감소가 큰 지역\n",
    "    - 코로나 이전의 매출은 증가했던 지역\n",
    "    \n",
    "  * 문화시설 관련\n",
    "    - 관광할 만한 문화요소는 많이 존재\n",
    "    - 현재 트렌드에 맞는 문화요소가 존재 (자연관광, 코로나 안전지역)"
   ]
  },
  {
   "cell_type": "markdown",
   "id": "d67907e1",
   "metadata": {},
   "source": [
    "1. 지역 선정 기준 마련\n",
    "\n",
    " 1) 관광\n",
    " \n",
    "  * 비대면 여행지\n",
    "    - 교통 불편(접근성 좋지않음)\n",
    "    - 코로나 이후의 매출 감소가 매우 큼\n",
    "    - 관광할 만한 문화요소가 존재함  \n",
    "\n",
    "  * 근거리, 생활관광 여행지\n",
    "    - 코로나 이후의 트렌드와 맞는 부문의 매출의 증가율이 높은 곳(코로나 안전지역)\n",
    "    - 자연 문화 시설이 많은 지역  "
   ]
  },
  {
   "cell_type": "markdown",
   "id": "d643157c",
   "metadata": {},
   "source": [
    "1. 교통이 불편하지만 관광할 만한 문화요소가 존재함\n",
    "\n",
    "* 교통\n",
    "- 인구대비 자동차 등록대수가 많은 곳 (차량이 없으면 이동하기가 불편한 지역이므로)\n",
    "- 인구대비 대중교통 이용자가 적은 곳\n",
    "\n",
    "- 카드 데이터 내 교통 매출의 변화가 큰 곳\n",
    "\n",
    "- 자전거 매출이 높은 곳(참고사항) -> 근거리, 생활관광 여행지\n",
    "\n",
    "* 문화시설\n",
    "- 비대면 관광지 : 인문\n",
    "- 언택트 관광지\n",
    "     -> 자연, 레저(카드 데이터 상에서도 체험에 대한 감소폭은 적음), 자전거\n",
    "\n",
    "-------------------------------------------------------------------\n",
    "* 렌터카 지역별 등록대수 (높으면 안전 여행지, 낮으면 비대면)\n",
    "제주, 인천이 압도적으로 높음\n",
    "경남, 전남, 서울, 부산 경기 순"
   ]
  },
  {
   "cell_type": "markdown",
   "id": "354d1dda",
   "metadata": {},
   "source": [
    "2. 정책 제안\n",
    "\n",
    "  * 비대면 여행지\n",
    "    - 교통 불편(접근성 좋지않음)\n",
    "    - 코로나 이후의 매출 감소가 매우 큼\n",
    "    - 관광할 만한 문화요소가 존재함  \n",
    "\n",
    "  * 근거리, 생활관광 여행지\n",
    "    - 코로나 이후의 트렌드와 맞는 부문의 매출의 증가율이 높은 곳(코로나 안전지역)\n",
    "    - 자연 문화 시설이 많은 지역"
   ]
  },
  {
   "cell_type": "code",
   "execution_count": null,
   "id": "ca971212",
   "metadata": {},
   "outputs": [],
   "source": []
  },
  {
   "cell_type": "code",
   "execution_count": null,
   "id": "4bee51c9",
   "metadata": {},
   "outputs": [],
   "source": []
  },
  {
   "cell_type": "code",
   "execution_count": null,
   "id": "a0ba8479",
   "metadata": {},
   "outputs": [],
   "source": []
  }
 ],
 "metadata": {
  "kernelspec": {
   "display_name": "Python 3",
   "language": "python",
   "name": "python3"
  },
  "language_info": {
   "codemirror_mode": {
    "name": "ipython",
    "version": 3
   },
   "file_extension": ".py",
   "mimetype": "text/x-python",
   "name": "python",
   "nbconvert_exporter": "python",
   "pygments_lexer": "ipython3",
   "version": "3.8.8"
  },
  "toc": {
   "base_numbering": 1,
   "nav_menu": {},
   "number_sections": true,
   "sideBar": true,
   "skip_h1_title": false,
   "title_cell": "Table of Contents",
   "title_sidebar": "Contents",
   "toc_cell": false,
   "toc_position": {},
   "toc_section_display": true,
   "toc_window_display": false
  }
 },
 "nbformat": 4,
 "nbformat_minor": 5
}
